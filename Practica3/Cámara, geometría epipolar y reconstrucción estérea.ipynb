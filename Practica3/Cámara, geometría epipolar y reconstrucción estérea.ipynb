{
 "cells": [
  {
   "cell_type": "markdown",
   "metadata": {},
   "source": [
    "# Visión por Computador - Práctica 3\n",
    "## Cámara, geometría epipolar y reconstrucción estérea"
   ]
  },
  {
   "cell_type": "markdown",
   "metadata": {},
   "source": [
    "### Estimación de la matriz de una cámara a partir del conjunto de puntos en correspondencias.\n",
    "\n",
    "##### a) Generar la matriz de una cámara finita P a partir de valores aleatorios en [0,1] . Verificar si representa una cámara finita y en ese caso quedársela.\n",
    "##### b) Suponer un patrón de puntos del mundo 3D compuesto por el conjunto de puntos con coordenadas $\\{(0,x_1,x_2)$ y $(x_2,x_1,0)$, para $x_1=0.1:0.1:1$ y $x_2=0.1:0.1:1\\}$. Esto supone una rejilla de puntos en dos planos distintos ortogonales.\n",
    "##### c) Proyectar el conjunto de puntos del mundo con la cámara simulada y obtener las coordenadas píxel de su proyección.\n",
    "##### d) Implementar el algoritmo DLT para estimar la cámara P a partir de los puntos 3D y sus proyecciones en la imagen.\n",
    "##### e) Calcular el error de la estimación usando la norma de Frobenius (cuadrática).\n",
    "##### f) Mostrar en una única imagen los puntos 3D proyectados con la cámara estimada y la cámara simulada."
   ]
  },
  {
   "cell_type": "markdown",
   "metadata": {},
   "source": [
    "*  **Apartado a:** para generar una cámara finita $P = K[R|T]$, donde $P=[KR|KT] = [M|M_T]$ simplemente tenemos que generar una matriz con números aleatorios y asegurarnos de que el determinante de $M$ sea distinto de 0. Al final, devolveremos una matriz de tamaño $3\\times4$ con $det(M)\\neq0$."
   ]
  },
  {
   "cell_type": "code",
   "execution_count": 1,
   "metadata": {
    "collapsed": true
   },
   "outputs": [],
   "source": [
    "import cv2\n",
    "import math\n",
    "import numpy as np\n",
    "import functions as fx\n",
    "\n",
    "def generate_Pcamera():\n",
    "    # La matriz cámara tiene la siguiente estructura:\n",
    "    #              P =  K[R | T]\n",
    "    # donde det(R) != 0, al igual que det(K) != 0, por\n",
    "    # lo que podemos hacer que P = [KR | KT] = [M | M_4]\n",
    "\n",
    "    # Generamos una matriz con valores aleatorios en el\n",
    "    # intervalo [0,1)\n",
    "    P_cam = np.random.rand(3,4)\n",
    "\n",
    "    # Comprobamos si det(M) != 0. En caso de que no lo\n",
    "    # sea, volvemos a generar una nueva matriz cámara.\n",
    "    while not np.linalg.det(P_cam[0:3,0:3]):\n",
    "        P_cam = np.random.rand(3,4)\n",
    "\n",
    "    P_cam = P_cam / P_cam[-1,-1]\n",
    "    return P_cam"
   ]
  },
  {
   "cell_type": "markdown",
   "metadata": {},
   "source": [
    "* **Apartado b:** para generar los puntos con coordenadas $\\{(0,x_1,x_2)$ y $(x_2,x_1,0)$, para $x_1=0.1:0.1:1$ y $x_2=0.1:0.1:1\\}$, simplemente generamos dos arrays de 0 a 1 en intervalos de 0.1, que concatenaremos en forma de columna y añadiremos un cero por la izquierda o la derecha, según corresponda, generando puntos de la siguiente forma:\n",
    "$$set_1 = \\left[\\begin{matrix}\n",
    "  0 & 0 & 0 \\\\\n",
    "  0 & 0 & 0.1 \\\\\n",
    "   & \\vdots &  \\\\\n",
    "  0 & 0.1 & 0.5 \\\\\n",
    "  & \\vdots & \\\\\n",
    "  0 & 0.9 & 0.9\n",
    " \\end{matrix}\\right] \\qquad set_2 = \\left[\\begin{matrix}\n",
    "  0 & 0 & 0 \\\\\n",
    "  0 & 0.1 & 0 \\\\\n",
    "   & \\vdots &  \\\\\n",
    "  0.1 & 0.1 & 0 \\\\\n",
    "  & \\vdots & \\\\\n",
    "  0.9 & 0.9 & 0\n",
    " \\end{matrix}\\right]$$"
   ]
  },
  {
   "cell_type": "code",
   "execution_count": 4,
   "metadata": {
    "collapsed": false
   },
   "outputs": [],
   "source": [
    "def generate_points():\n",
    "    # Generamos los valores de x1 y x2\n",
    "    x1 = np.arange(start = 0, stop = 1,\n",
    "                   step = 0.1, dtype=np.float64)\n",
    "    x2 = np.arange(start = 0, stop = 1,\n",
    "                   step = 0.1, dtype=np.float64)\n",
    "    # Obtenemos una combinación de los puntos que hemos obtenido\n",
    "    points2D = np.concatenate(np.array(np.meshgrid(x1,x2)).T)\n",
    "    # Añadimos un cero por la izquierda y uno por la derecha respectivamente\n",
    "    set1 = np.hstack((np.zeros(points2D.shape[0])[...,None], points2D))\n",
    "    set2 = np.hstack((points2D, np.zeros(points2D.shape[0])[...,None]))\n",
    "    # Y devolvemos un único conjunto de puntos\n",
    "    return np.concatenate((set1, set2))"
   ]
  },
  {
   "cell_type": "markdown",
   "metadata": {},
   "source": [
    "* **Apartado c:** para proyectar los puntos del mundo sobre el espacio 2D de la retina, tenemos que multiplicar los puntos del mundo por la matriz cámara que hemos generado, y normalizar estos puntos dividiendo por la última coordenada y devolviendo la coordenada $x_i$ e $y_i$ para el punto $X_i$ obteniendo así coordenadas 2D. Para ello, es necesario tener como entrada los puntos del mundo y la cámara, además de convertir estos puntos del mundo a coordenadas homogéneas. $$X' = PX = P \\left[\\begin{matrix}\n",
    "x\\\\\n",
    "y\\\\\n",
    "z\\\\\n",
    "1\n",
    "\\end{matrix}\\right]$$ $$X'=\\left[\\begin{matrix}\n",
    "x'\\\\\n",
    "y'\\\\\n",
    "z'\n",
    "\\end{matrix}\\right] \\qquad (u,v) = \\left[\\begin{matrix}\\frac{x'}{z'}\\\\\n",
    "\\frac{y'}{z'}\\end{matrix}\\right]$$ Esta función devuelve las coordenadas homogéneas de los puntos del mundo y las coordenadas 2D de los puntos proyectados en la retina."
   ]
  },
  {
   "cell_type": "code",
   "execution_count": 6,
   "metadata": {
    "collapsed": true
   },
   "outputs": [],
   "source": [
    "def project_points(points, camera):\n",
    "    # Pasamos las coordenadas de los puntos a coordenadas homogéneas\n",
    "    homogeneus_points = np.hstack((points, (np.ones(points.shape[0]))[...,None]))\n",
    "    # Obtenemos una matriz vacía que serán las proyecciones\n",
    "    # de los puntos al pasar por la cámara.\n",
    "    projection = np.zeros(shape=(points.shape[0],2), dtype=np.float32)\n",
    "    # Realizamos la multiplicación\n",
    "    #    xy' = P * xy\n",
    "    for i in range(homogeneus_points.shape[0]):\n",
    "        point = np.dot(camera,homogeneus_points[i].T)\n",
    "        projection[i,0] = point[0]/point[2]\n",
    "        projection[i,1] = point[1]/point[2]\n",
    "\n",
    "    # Devolvemos las proyecciones de los puntos\n",
    "    return homogeneus_points, projection"
   ]
  },
  {
   "cell_type": "markdown",
   "metadata": {},
   "source": [
    "* **Apartado d**: para realizar el algoritmo DLT (*Direct Linear Transformation*), partiremos de que conocemos los puntos reales del mundo (puntos xyz en coordenadas homogénas) y los puntos proyectados en la retina (en coordenadas 2D, que pasaremos a coordenadas homogéneas). Antes de comenzar con el algoritmo, debemos normalizar los puntos para que el resultado del DLT no se vea afectado por estos puntos. Esto se debe a que los puntos en coordenadas del mundo y coordenadas píxeles, pueden llegar a variar en varios órdenes de magnitud, haciendo que el espacio de búsqueda del algoritmo se vea incrementado. Si normalizamos estos puntos, el espacio de búsqueda queda muchísimo más acotado, permitiendo que el algoritmo obtenga mejores soluciones que si usamos los puntos sin tratar.\n",
    "\n",
    "    Para normalizar estos puntos, se ha definido la función ```normalize```, que recibe como parámetros los puntos en coordenadas homogéneas, y para qué dimensión queremos normalizar, si 2D o 3D. Una vez aquí, calcularemos la media de los puntos y la desviación típica de estos, que usaremos para construir la matriz de normalización N: $$ N = \\left(\\begin{matrix}\\sigma & 0 & 0 \\end{matrix}\\right)"
   ]
  },
  {
   "cell_type": "code",
   "execution_count": 4,
   "metadata": {
    "collapsed": true
   },
   "outputs": [],
   "source": [
    "# Los puntos han de ser en coordenadas homogéneas\n",
    "def normalize(points, dim):\n",
    "    # Obtenemos la media de los puntos y su desviación\n",
    "    # típica para normalizar los datos\n",
    "    points_mean = np.mean(points, 0)\n",
    "    s = np.std(points[:,0:points.shape[1]-1])\n",
    "\n",
    "    # Creamos la matriz N para normalizar los puntos, esta\n",
    "    # matriz tiene la forma:\n",
    "    if dim == 2:\n",
    "        N = np.matrix([ [s, 0, points_mean[0]], [0, s, points_mean[1]], [0, 0, 1] ])\n",
    "    else:\n",
    "        N = np.matrix([[s, 0, 0, points_mean[0]], [0, s, 0, points_mean[1]], [0, 0, s, points_mean[2]], [0, 0, 0, 1]])\n",
    "\n",
    "    N = np.linalg.inv(N)\n",
    "    normalized_points = np.dot(N, points.T)\n",
    "    normalized_points = normalized_points[0:dim,:].T\n",
    "    \n",
    "    return N, normalized_points"
   ]
  },
  {
   "cell_type": "code",
   "execution_count": 7,
   "metadata": {
    "collapsed": true
   },
   "outputs": [],
   "source": [
    "\n",
    "# Algoritmo DLT para obtener una cámara estimada a partir\n",
    "# de los puntos en el mundo y los puntos de la retina\n",
    "def DLT_algorithm(real_points, projected_points, camera):\n",
    "    # Normalizamos los puntos para mejorar el resultado\n",
    "    # del algoritmo DLT\n",
    "    N_matrix, normalized_points = normalize(real_points, 3)\n",
    "    homogeneus_proj_pt = np.hstack((projected_points, (np.ones(projected_points.shape[0]))[...,None]))\n",
    "    N_matrix2d, norm_points_2d = normalize(homogeneus_proj_pt, 2)\n",
    "    # Recorremos todos los puntos 3D que tenemos\n",
    "    # y generamos una matriz M con todos los puntos\n",
    "    aux = []\n",
    "    for i in range(normalized_points.shape[0]):\n",
    "        x_i, y_i, z_i = normalized_points[i,0], normalized_points[i,1], normalized_points[i,2]\n",
    "        u, v = norm_points_2d[i,0], norm_points_2d[i,1]\n",
    "        aux.append([x_i, y_i, z_i, 1, 0, 0, 0, 0, -u*x_i, -u*y_i, -u*z_i, -u])\n",
    "        aux.append([0, 0, 0, 0, x_i, y_i, z_i, 1, -v*x_i, -v*y_i, -v*z_i, -v])\n",
    "\n",
    "    # Descomponemos la matriz\n",
    "    U, s, V = np.linalg.svd(np.array(aux, dtype=np.float64))\n",
    "    # Obtenemos los parámetros\n",
    "    camera_estimated = V[-1,:]/V[-1,-1]\n",
    "    camera_estimated = np.matrix(camera_estimated).reshape(3,4)\n",
    "    # Desnormalizamos\n",
    "    camera_estimated = np.dot(np.dot(np.linalg.pinv(N_matrix2d), camera_estimated), N_matrix)\n",
    "    camera_estimated = camera_estimated/camera_estimated[-1,-1]\n",
    "    # Calculamos el error de la cámara estimada\n",
    "    error = np.linalg.norm(x=(camera - camera_estimated), ord=None)\n",
    "    \n",
    "    return camera_estimated, error"
   ]
  }
 ],
 "metadata": {
  "kernelspec": {
   "display_name": "Python 3",
   "language": "python",
   "name": "python3"
  },
  "language_info": {
   "codemirror_mode": {
    "name": "ipython",
    "version": 3
   },
   "file_extension": ".py",
   "mimetype": "text/x-python",
   "name": "python",
   "nbconvert_exporter": "python",
   "pygments_lexer": "ipython3",
   "version": "3.5.2"
  }
 },
 "nbformat": 4,
 "nbformat_minor": 1
}
