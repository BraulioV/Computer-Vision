{
 "cells": [
  {
   "cell_type": "markdown",
   "metadata": {},
   "source": [
    "# Visión por Computador - Práctica 3\n",
    "## Cámara, geometría epipolar y reconstrucción estérea"
   ]
  },
  {
   "cell_type": "markdown",
   "metadata": {},
   "source": [
    "### Estimación de la matriz de una cámara a partir del conjunto de puntos en correspondencias.\n",
    "\n",
    "##### a) Generar la matriz de una cámara finita P a partir de valores aleatorios en [0,1] . Verificar si representa una cámara finita y en ese caso quedársela.\n",
    "##### b) Suponer un patrón de puntos del mundo 3D compuesto por el conjunto de puntos con coordenadas {(0,x1,x2) y (x2,x1,0), para x1=0.1:0.1:1 y x2=0.1:0.1:1}. Esto supone una rejilla de puntos en dos planos distintos ortogonales.\n",
    "##### c) Proyectar el conjunto de puntos del mundo con la cámara simulada y obtener las coordenadas píxel de su proyección.\n",
    "##### d) Implementar el algoritmo DLT para estimar la cámara P a partir de los puntos 3D y sus proyecciones en la imagen.\n",
    "##### e) Calcular el error de la estimación usando la norma de Frobenius (cuadrática).\n",
    "##### f) Mostrar en una única imagen los puntos 3D proyectados con la cámara estimada y la cámara simulada."
   ]
  },
  {
   "cell_type": "code",
   "execution_count": 9,
   "metadata": {
    "collapsed": true
   },
   "outputs": [],
   "source": [
    "import cv2\n",
    "import math\n",
    "import numpy as np\n",
    "import functions as fx\n",
    "\n",
    "def generate_Pcamera():\n",
    "    # La matriz cámara tiene la siguiente estructura:\n",
    "    #              P =  K[R | T]\n",
    "    # donde det(R) != 0, al igual que det(K) != 0, por\n",
    "    # lo que podemos hacer que P = [KR | KT] = [M | M_4]\n",
    "\n",
    "    # Generamos una matriz con valores aleatorios en el\n",
    "    # intervalo [0,1)\n",
    "    P_cam = np.random.rand(3,4)\n",
    "\n",
    "    # Comprobamos si det(M) != 0. En caso de que no lo\n",
    "    # sea, volvemos a generar una nueva matriz cámara.\n",
    "    while not np.linalg.det(P[0:3,0:3]):\n",
    "        P_cam = np.random.rand(3,4)        \n",
    "    \n",
    "    return P_cam\n",
    "\n",
    "def generate_points():\n",
    "    # Generamos los valores de x1 y x2\n",
    "    x1 = np.arange(start = 0, stop = 1,\n",
    "                   step = 0.1, dtype=np.float32)\n",
    "    x2 = np.arange(start = 0, stop = 1,\n",
    "                   step = 0.1, dtype=np.float32)\n",
    "\n",
    "    points2D = np.concatenate(np.array(np.meshgrid(x1,x2)).T,np.zeros(x1.shape[0]))\n",
    "\n",
    "    set1 = np.hstack((np.zeros(points2D.shape[0]).T, conjunto))\n",
    "    set2 = np.hstack((np.zeros(conjunto, points2D.shape[0]).T))\n",
    "\n",
    "    return set1, set2"
   ]
  }
 ],
 "metadata": {
  "kernelspec": {
   "display_name": "Python 3",
   "language": "python",
   "name": "python3"
  },
  "language_info": {
   "codemirror_mode": {
    "name": "ipython",
    "version": 3
   },
   "file_extension": ".py",
   "mimetype": "text/x-python",
   "name": "python",
   "nbconvert_exporter": "python",
   "pygments_lexer": "ipython3",
   "version": "3.5.2"
  }
 },
 "nbformat": 4,
 "nbformat_minor": 1
}
